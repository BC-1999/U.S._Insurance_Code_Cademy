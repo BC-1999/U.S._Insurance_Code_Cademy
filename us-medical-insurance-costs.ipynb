{
 "cells": [
  {
   "cell_type": "markdown",
   "metadata": {},
   "source": [
    "# U.S. Medical Insurance Costs"
   ]
  },
  {
   "cell_type": "markdown",
   "metadata": {},
   "source": [
    "### Project goals\n",
    "\n",
    "1. Calculate the maximum, average, and minimum age of the insured.\n",
    "2. Calculate the number of insured per region.\n",
    "3. Find the average charge for smokers and non-smokers.\n",
    "4. Find the average insurance cost for women with different number of children. "
   ]
  },
  {
   "cell_type": "markdown",
   "metadata": {},
   "source": [
    "### 1. Import data\n",
    "\n",
    "Data will imported through open function and through panda to show two ways of analyzing data."
   ]
  },
  {
   "cell_type": "code",
   "execution_count": 149,
   "metadata": {
    "scrolled": true
   },
   "outputs": [],
   "source": [
    "# imprort the libraries\n",
    "import csv\n",
    "import pandas as pd\n",
    "from statistics import mean\n",
    "\n",
    "\n",
    "# read the file into a dictionary\n",
    "\n",
    "insurance_list = []\n",
    "\n",
    "with open('insurance.csv') as insurance_cvs_file:\n",
    "  insurance_dict = csv.DictReader(insurance_cvs_file)\n",
    "  for row in insurance_dict:\n",
    "        insurance_list.append(row)\n",
    "\n",
    "# separate the values\n",
    "\n",
    "age = []\n",
    "sex = []\n",
    "bmi = []\n",
    "children = []\n",
    "smoker = []\n",
    "region = []\n",
    "charges = []\n",
    "\n",
    "for person in insurance_list:\n",
    "    age.append(int(person[\"age\"]))\n",
    "    sex.append(person[\"sex\"])\n",
    "    bmi.append(person[\"bmi\"])\n",
    "    children.append(int(person[\"children\"]))\n",
    "    smoker.append(person[\"smoker\"])\n",
    "    region.append(person[\"region\"])\n",
    "    charges.append(float(person[\"charges\"]))"
   ]
  },
  {
   "cell_type": "markdown",
   "metadata": {},
   "source": [
    "### 2. Conduct analysis\n",
    "\n",
    "#### Age mean, max, and min"
   ]
  },
  {
   "cell_type": "code",
   "execution_count": 150,
   "metadata": {},
   "outputs": [
    {
     "name": "stdout",
     "output_type": "stream",
     "text": [
      "The average age of the insured is 39.21.\n",
      "The maximum age of the insured is 64.\n",
      "The minimum age of the insured is 18.\n"
     ]
    }
   ],
   "source": [
    "# calucalte avg age\n",
    "\n",
    "avg_age = round(mean(age), 2)\n",
    "print(\"The average age of the insured is {}.\".format(avg_age))\n",
    "\n",
    "# calculate max and min age\n",
    "max_age = max(age)\n",
    "print(\"The maximum age of the insured is {}.\".format(max_age))\n",
    "\n",
    "min_age = min(age)\n",
    "print(\"The minimum age of the insured is {}.\".format(min_age))"
   ]
  },
  {
   "cell_type": "markdown",
   "metadata": {},
   "source": [
    "#### Number of insured per region"
   ]
  },
  {
   "cell_type": "code",
   "execution_count": 151,
   "metadata": {},
   "outputs": [
    {
     "name": "stdout",
     "output_type": "stream",
     "text": [
      "The number of insured in southwest is 325.\n",
      "The number of insured in southeast is 364.\n",
      "The number of insured in northwest is 325.\n",
      "The number of insured in northeast is 324.\n"
     ]
    }
   ],
   "source": [
    "region_types = []\n",
    "for item in region:\n",
    "    if item not in region_types:\n",
    "        region_types.append(item)\n",
    "#print(region_types)\n",
    "\n",
    "for reg in region_types:\n",
    "    count = region.count(reg)\n",
    "    print(\"The number of insured in {} is {}.\".format(reg, count))"
   ]
  },
  {
   "cell_type": "markdown",
   "metadata": {},
   "source": [
    "#### Average charge, range of charges for smokers and non-smokers"
   ]
  },
  {
   "cell_type": "code",
   "execution_count": 152,
   "metadata": {},
   "outputs": [
    {
     "name": "stdout",
     "output_type": "stream",
     "text": [
      "The average cost of the insurance for smokers is 32050.23183153285.\n",
      "The average cost of the insurance for non-smokers is 8434.268297856199.\n"
     ]
    }
   ],
   "source": [
    "total_smoker = 0\n",
    "total_non_smoker = 0\n",
    "count_smoker = 0\n",
    "count_non_smoker = 0\n",
    "count = 0\n",
    "\n",
    "# find the average costs\n",
    "for item in smoker:\n",
    "    smoke_charge = charges[count]\n",
    "    if item == 'yes':\n",
    "        count_smoker += 1\n",
    "        total_smoker += smoke_charge\n",
    "    else:\n",
    "        count_non_smoker +=1\n",
    "        total_non_smoker += smoke_charge\n",
    "        \n",
    "    count += 1\n",
    "\n",
    "avg_smoker = total_smoker / count_smoker\n",
    "print(\"The average cost of the insurance for smokers is {}.\".format(avg_smoker))\n",
    "\n",
    "avg_non_smoker = total_non_smoker / count_non_smoker\n",
    "print(\"The average cost of the insurance for non-smokers is {}.\".format(avg_non_smoker))\n",
    "\n",
    "        \n",
    "        \n",
    "        "
   ]
  },
  {
   "cell_type": "markdown",
   "metadata": {},
   "source": [
    "#### Find the average insurance cost for women with different number of children. "
   ]
  },
  {
   "cell_type": "code",
   "execution_count": 153,
   "metadata": {},
   "outputs": [
    {
     "name": "stdout",
     "output_type": "stream",
     "text": [
      "The average insurance cost for a women with 0 children is 11905.71 dollars.\n",
      "The average insurance cost for a women with 1 children is 12161.36 dollars.\n",
      "The average insurance cost for a women with 2 children is 13941.32 dollars.\n",
      "The average insurance cost for a women with 3 children is 13865.61 dollars.\n",
      "The average insurance cost for a women with 4 children is 13937.67 dollars.\n",
      "The average insurance cost for a women with 5 children is 9854.01 dollars.\n"
     ]
    }
   ],
   "source": [
    "# I used the code below to see how many different number of children there are\n",
    "\n",
    "#children_num = []\n",
    "\n",
    "#count = 0\n",
    "#for item in children:\n",
    "    #if sex[count] == 'female':\n",
    "       #if item not in children_num:\n",
    "         # print(item)\n",
    "           \n",
    "        #print(count)\n",
    "        #children_num.append(item)\n",
    "    #count += 1\n",
    "#print(children_num)\n",
    "\n",
    "# initialize the values\n",
    "c_0 = 0\n",
    "c_1 = 0\n",
    "c_2 = 0\n",
    "c_3 = 0\n",
    "c_4 = 0\n",
    "c_5 = 0\n",
    "total_0 = 0\n",
    "total_1 = 0\n",
    "total_2 = 0\n",
    "total_3 = 0\n",
    "total_4 = 0\n",
    "total_5 = 0\n",
    "\n",
    "count = 0\n",
    "\n",
    "# loop to add the values to separate counts\n",
    "for person in insurance_list:\n",
    "    if person['sex'] == 'female':\n",
    "        charge_val = charges[count]\n",
    "        #print(charge_val)\n",
    "        if person['children'] == '0':\n",
    "            total_0 += charge_val\n",
    "            \n",
    "            c_0 += 1\n",
    "        elif person['children'] == '1':\n",
    "            total_1 += charge_val\n",
    "            c_1+= 1\n",
    "        elif person['children'] == '2':\n",
    "            total_2 += charge_val\n",
    "            c_2 += 1\n",
    "        elif person['children'] == '3':\n",
    "            total_3 += charge_val\n",
    "            c_3 += 1\n",
    "        elif person['children'] == '4':\n",
    "            total_4 += charge_val\n",
    "            c_4 += 1\n",
    "        else:\n",
    "            total_5 += charge_val\n",
    "            c_5 += 1\n",
    "    count += 1\n",
    "\n",
    "# calculate the averages\n",
    "avg_0 = round(total_0 / c_0, 2)\n",
    "avg_1 = round(total_1 / c_1, 2)\n",
    "avg_2 = round(total_2 / c_2, 2)\n",
    "avg_3 = round(total_3 / c_3, 2)\n",
    "avg_4 = round(total_4 / c_4, 2)\n",
    "avg_5 = round(total_5 / c_5, 2)\n",
    "\n",
    "# print the final statements\n",
    "\n",
    "print(\"The average insurance cost for a women with 0 children is {} dollars.\".format(avg_0))\n",
    "print(\"The average insurance cost for a women with 1 children is {} dollars.\".format(avg_1))\n",
    "print(\"The average insurance cost for a women with 2 children is {} dollars.\".format(avg_2))\n",
    "print(\"The average insurance cost for a women with 3 children is {} dollars.\".format(avg_3))\n",
    "print(\"The average insurance cost for a women with 4 children is {} dollars.\".format(avg_4))\n",
    "print(\"The average insurance cost for a women with 5 children is {} dollars.\".format(avg_5))\n",
    "\n"
   ]
  },
  {
   "cell_type": "code",
   "execution_count": 154,
   "metadata": {},
   "outputs": [
    {
     "ename": "SyntaxError",
     "evalue": "(unicode error) 'unicodeescape' codec can't decode bytes in position 108-109: truncated \\UXXXXXXXX escape (3669579954.py, line 11)",
     "output_type": "error",
     "traceback": [
      "\u001b[1;36m  File \u001b[1;32m\"C:\\Users\\barba\\AppData\\Local\\Temp\\ipykernel_25156\\3669579954.py\"\u001b[1;36m, line \u001b[1;32m11\u001b[0m\n\u001b[1;33m    print(\"No duplicates\")'''\u001b[0m\n\u001b[1;37m                             ^\u001b[0m\n\u001b[1;31mSyntaxError\u001b[0m\u001b[1;31m:\u001b[0m (unicode error) 'unicodeescape' codec can't decode bytes in position 108-109: truncated \\UXXXXXXXX escape\n"
     ]
    }
   ],
   "source": [
    "'''A 2nd way to import a file would be through the PANDAS dictionary \n",
    "\n",
    "import csv\n",
    "\n",
    "insurance = pd.read_csv(r\"C:\\Users\\barba\\Desktop\\python-portfolio-project-starter-files\\python-portfolio-project-starter-files\\insurance.csv\")\n",
    "\n",
    "# check for duplicates\n",
    "if \"False\" in insurance.duplicated():\n",
    "    print(\"There are duplicates\")\n",
    "else: \n",
    "    print(\"No duplicates\")'''"
   ]
  },
  {
   "cell_type": "code",
   "execution_count": 155,
   "metadata": {},
   "outputs": [
    {
     "data": {
      "text/plain": [
       "'# calucalte the mean age and max/min age using PANDAS\\n\\nmean_age = round(insurance[\\'age\\'].mean(), 2)\\nprint(\"The mean age of the people in the database is {}\".format(mean_age))\\n\\nmax_age = insurance[\\'age\\'].max()\\nprint(\"The oldest person in the database is {} years old\".format(max_age))\\n\\nmin_age = insurance[\\'age\\'].min()\\nprint(\"The youngest person in the database is {} years old\".format(min_age))'"
      ]
     },
     "execution_count": 155,
     "metadata": {},
     "output_type": "execute_result"
    }
   ],
   "source": [
    "'''# calucalte the mean age and max/min age using PANDAS\n",
    "\n",
    "mean_age = round(insurance['age'].mean(), 2)\n",
    "print(\"The mean age of the people in the database is {}\".format(mean_age))\n",
    "\n",
    "max_age = insurance['age'].max()\n",
    "print(\"The oldest person in the database is {} years old\".format(max_age))\n",
    "\n",
    "min_age = insurance['age'].min()\n",
    "print(\"The youngest person in the database is {} years old\".format(min_age))'''"
   ]
  },
  {
   "cell_type": "code",
   "execution_count": 156,
   "metadata": {},
   "outputs": [
    {
     "data": {
      "text/plain": [
       "'# count the number of insurees by region using PANDAS\\n\\nregion_count = insurance.groupby([\\'region\\']).size().reset_index(name=\"count\")\\nprint(\"Number of insured per region: \")\\nprint(region_count)'"
      ]
     },
     "execution_count": 156,
     "metadata": {},
     "output_type": "execute_result"
    }
   ],
   "source": [
    "'''# count the number of insurees by region using PANDAS\n",
    "\n",
    "region_count = insurance.groupby(['region']).size().reset_index(name=\"count\")\n",
    "print(\"Number of insured per region: \")\n",
    "print(region_count)'''\n",
    "\n"
   ]
  },
  {
   "cell_type": "code",
   "execution_count": 157,
   "metadata": {},
   "outputs": [
    {
     "data": {
      "text/plain": [
       "'# when using PANDAS, I could also find correlations between values\\n\\nprint(\"The correlation between insuree\\'s characteristics and charges:\")\\ncorr = insurance.corr()\\nprint(corr)\\nprint()\\n\\n# correlation of age and insurance costs\\ncorr_age_charges = round(insurance[\"age\"].corr(insurance[\"charges\"]),3)\\nprint(\"The largest correlation is between the age and charges and it has the value of {}.\".format(corr_age_charges))'"
      ]
     },
     "execution_count": 157,
     "metadata": {},
     "output_type": "execute_result"
    }
   ],
   "source": [
    "'''# when using PANDAS, I could also find correlations between values\n",
    "\n",
    "print(\"The correlation between insuree's characteristics and charges:\")\n",
    "corr = insurance.corr()\n",
    "print(corr)\n",
    "print()\n",
    "\n",
    "# correlation of age and insurance costs\n",
    "corr_age_charges = round(insurance[\"age\"].corr(insurance[\"charges\"]),3)\n",
    "print(\"The largest correlation is between the age and charges and it has the value of {}.\".format(corr_age_charges))'''\n",
    "\n",
    "\n"
   ]
  },
  {
   "cell_type": "code",
   "execution_count": 158,
   "metadata": {},
   "outputs": [
    {
     "data": {
      "text/plain": [
       "'# the avg insurance cost and range for smokers and non-smokers\\n\\nsmok_mean = insurance.groupby(\\'smoker\\')[\\'charges\\'].mean().reset_index(name=\\'insurance cost\\')\\nprint(\"The average insurance cost for smokers and non-smokers:\")\\nprint(smok_mean)'"
      ]
     },
     "execution_count": 158,
     "metadata": {},
     "output_type": "execute_result"
    }
   ],
   "source": [
    "'''# the avg insurance cost and range for smokers and non-smokers\n",
    "\n",
    "smok_mean = insurance.groupby('smoker')['charges'].mean().reset_index(name='insurance cost')\n",
    "print(\"The average insurance cost for smokers and non-smokers:\")\n",
    "print(smok_mean)'''\n"
   ]
  }
 ],
 "metadata": {
  "kernelspec": {
   "display_name": "Python 3 (ipykernel)",
   "language": "python",
   "name": "python3"
  },
  "language_info": {
   "codemirror_mode": {
    "name": "ipython",
    "version": 3
   },
   "file_extension": ".py",
   "mimetype": "text/x-python",
   "name": "python",
   "nbconvert_exporter": "python",
   "pygments_lexer": "ipython3",
   "version": "3.9.13"
  }
 },
 "nbformat": 4,
 "nbformat_minor": 4
}
